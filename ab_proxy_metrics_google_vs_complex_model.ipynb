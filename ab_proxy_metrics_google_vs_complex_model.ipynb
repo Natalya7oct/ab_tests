{
  "cells": [
    {
      "cell_type": "code",
      "execution_count": null,
      "metadata": {
        "id": "jECe_uge9Gju"
      },
      "outputs": [],
      "source": [
        "import pandas as pd\n",
        "import os\n",
        "import re\n",
        "from tqdm import tqdm\n",
        "import pyodbc\n",
        "import datetime\n",
        "import cx_Oracle\n",
        "from scipy import stats\n",
        "from datetime import timedelta\n",
        "import matplotlib.pyplot as plt\n",
        "import numpy as np\n",
        "from isoweek import Week\n",
        "import json"
      ]
    },
    {
      "cell_type": "code",
      "execution_count": null,
      "metadata": {
        "id": "Yj75MqAH9Gjx"
      },
      "outputs": [],
      "source": [
        "from statsmodels.stats.weightstats import zconfint"
      ]
    },
    {
      "cell_type": "code",
      "execution_count": null,
      "metadata": {
        "id": "9hhM2CRK9Gjx"
      },
      "outputs": [],
      "source": [
        "server = ''\n",
        "database = ''\n",
        "username = ''\n",
        "password = ''\n",
        "driver= 'SQL Server'\n",
        "connection = pyodbc.connect('DRIVER='+driver+';SERVER='+server+';PORT=1433;DATABASE='+database+';UID='+username+';PWD='+ password)\n",
        "\n",
        "requestString_sessions = '''\n",
        "...\n",
        "    '''\n",
        "\n",
        "df = pd.read_sql_query(requestString_sessions,connection)"
      ]
    },
    {
      "cell_type": "code",
      "execution_count": null,
      "metadata": {
        "id": "xhb0uMOk9Gjy",
        "outputId": "1dd6a22d-f042-4469-e86b-69f3d3d6969d"
      },
      "outputs": [
        {
          "data": {
            "text/html": [
              "<div>\n",
              "<style scoped>\n",
              "    .dataframe tbody tr th:only-of-type {\n",
              "        vertical-align: middle;\n",
              "    }\n",
              "\n",
              "    .dataframe tbody tr th {\n",
              "        vertical-align: top;\n",
              "    }\n",
              "\n",
              "    .dataframe thead th {\n",
              "        text-align: right;\n",
              "    }\n",
              "</style>\n",
              "<table border=\"1\" class=\"dataframe\">\n",
              "  <thead>\n",
              "    <tr style=\"text-align: right;\">\n",
              "      <th></th>\n",
              "      <th>SessionID</th>\n",
              "      <th>MessageID</th>\n",
              "      <th>ExpGroup</th>\n",
              "      <th>TimeComplete</th>\n",
              "      <th>PhraseText</th>\n",
              "      <th>IntentName</th>\n",
              "    </tr>\n",
              "  </thead>\n",
              "  <tbody>\n",
              "    <tr>\n",
              "      <th>0</th>\n",
              "      <td>5cc5632c-e403-11ec-b9c5-ac100f8e0000</td>\n",
              "      <td>38adba08-cb73-4b95-a5ab-69aa43f04132</td>\n",
              "      <td>0.0</td>\n",
              "      <td>2022-06-04 15:39:23.740</td>\n",
              "      <td>Меня интересует в Азербайджан</td>\n",
              "      <td>default_qestion_faq</td>\n",
              "    </tr>\n",
              "  </tbody>\n",
              "</table>\n",
              "</div>"
            ],
            "text/plain": [
              "                              SessionID                             MessageID  \\\n",
              "0  5cc5632c-e403-11ec-b9c5-ac100f8e0000  38adba08-cb73-4b95-a5ab-69aa43f04132   \n",
              "\n",
              "   ExpGroup            TimeComplete                     PhraseText  \\\n",
              "0       0.0 2022-06-04 15:39:23.740  Меня интересует в Азербайджан   \n",
              "\n",
              "            IntentName  \n",
              "0  default_qestion_faq  "
            ]
          },
          "execution_count": 21,
          "metadata": {},
          "output_type": "execute_result"
        }
      ],
      "source": [
        "df.head(1)"
      ]
    },
    {
      "cell_type": "code",
      "execution_count": null,
      "metadata": {
        "id": "3W6NdjlC9Gjz",
        "outputId": "b7eb201b-fa1c-4598-c536-88a8fab8deb4"
      },
      "outputs": [
        {
          "name": "stderr",
          "output_type": "stream",
          "text": [
            "C:\\ProgramData\\Anaconda3\\lib\\site-packages\\pandas\\core\\indexing.py:670: SettingWithCopyWarning: \n",
            "A value is trying to be set on a copy of a slice from a DataFrame\n",
            "\n",
            "See the caveats in the documentation: https://pandas.pydata.org/pandas-docs/stable/user_guide/indexing.html#returning-a-view-versus-a-copy\n",
            "  self._setitem_with_indexer(indexer, value)\n"
          ]
        }
      ],
      "source": [
        "df['thanks'] = list(df.PhraseText.str.contains('Спасибо|спасибо|спасибочки|спс|Благодарю|благодарю'))\n",
        "df['thanks_rank'] =0\n",
        "for i in range(len(df)):\n",
        "    if df['thanks'].iloc[i]==True:\n",
        "        df['thanks_rank'].iloc[i]=1\n",
        "    else:\n",
        "        df['thanks_rank'].iloc[i]=0"
      ]
    },
    {
      "cell_type": "code",
      "execution_count": null,
      "metadata": {
        "id": "VFoVKiGH9Gjz"
      },
      "outputs": [],
      "source": [
        "df['operator'] = list(df.IntentName.str.contains('employee_transfer|support_chat'))\n",
        "df['operator_rank'] =0\n",
        "for i in range(len(df)):\n",
        "    if df['operator'].iloc[i]==True:\n",
        "        df['operator_rank'].iloc[i]=1\n",
        "    else:\n",
        "        df['operator_rank'].iloc[i]=0"
      ]
    },
    {
      "cell_type": "code",
      "execution_count": null,
      "metadata": {
        "id": "qcsFCKEb9Gj0"
      },
      "outputs": [],
      "source": [
        "sess_info=df[['SessionID','operator_rank', 'thanks_rank', 'ExpGroup']].groupby(['SessionID'], as_index=False).max()"
      ]
    },
    {
      "cell_type": "code",
      "execution_count": null,
      "metadata": {
        "id": "9vFfQwuE9Gj0",
        "outputId": "0b2f337d-11af-4418-8385-2634ff13183e"
      },
      "outputs": [
        {
          "name": "stdout",
          "output_type": "stream",
          "text": [
            "% сессий с вызовом оператора: \n",
            " Модель А: 0.1549 , доверительный интервал: (0.149353568217134, 0.16044699461169262) \n",
            "Модель B: 0.1415 , доверительный интервал: (0.13607623629987622, 0.14690823789711918) \n",
            "\n",
            "% сессий с благодарностью: \n",
            " Модель А: 0.0329 , доверительный интервал: (0.030119427261331173, 0.035584720542412865) \n",
            "Модель B: 0.0348 , доверительный интервал: (0.031913778281448466, 0.03760661897796444) \n",
            "\n",
            "\n"
          ]
        }
      ],
      "source": [
        "sess_info_0 = sess_info[sess_info.ExpGroup==0.0]\n",
        "\n",
        "count_0 = len(sess_info_0)\n",
        "sum_operators_0 = sum(sess_info_0.operator_rank)\n",
        "sum_thanks_0 = sum(sess_info_0.thanks_rank)\n",
        "avg_operators_0 = sum_operators_0/count_0\n",
        "avg_operators_zconfint_0 = zconfint(sess_info_0.operator_rank)\n",
        "avg_thanks_0 = sum_thanks_0/count_0\n",
        "avg_thanks_zconfint_0 = zconfint(sess_info_0.thanks_rank)\n",
        "\n",
        "sess_info_1 = sess_info[sess_info.ExpGroup==1.0]\n",
        "\n",
        "count_1 = len(sess_info_1)\n",
        "sum_operators_1 = sum(sess_info_1.operator_rank)\n",
        "sum_thanks_1 = sum(sess_info_1.thanks_rank)\n",
        "avg_operators_1 = sum_operators_1/count_1\n",
        "avg_operators_zconfint_1 = zconfint(sess_info_1.operator_rank)\n",
        "avg_thanks_1 = sum_thanks_1/count_1\n",
        "avg_thanks_zconfint_1 = zconfint(sess_info_1.thanks_rank)\n",
        "\n",
        "\n",
        "print('% сессий с вызовом оператора:', '\\n',\n",
        "      'Модель А: '+\"{:.4f}\".format(avg_operators_0)+' , доверительный интервал: '+str(avg_operators_zconfint_0), '\\n'\n",
        "      'Модель B: '+\"{:.4f}\".format(avg_operators_1)+' , доверительный интервал: '+str(avg_operators_zconfint_1), '\\n\\n'\n",
        "      '% сессий с благодарностью:', '\\n',\n",
        "      'Модель А: '+\"{:.4f}\".format(avg_thanks_0)+' , доверительный интервал: '+str(avg_thanks_zconfint_0), '\\n'\n",
        "      'Модель B: '+\"{:.4f}\".format(avg_thanks_1)+' , доверительный интервал: '+str(avg_thanks_zconfint_1), '\\n\\n'\n",
        "      )"
      ]
    },
    {
      "cell_type": "code",
      "execution_count": null,
      "metadata": {
        "id": "WJuv3eWH9Gj1"
      },
      "outputs": [],
      "source": []
    }
  ],
  "metadata": {
    "kernelspec": {
      "display_name": "Python 3 (ipykernel)",
      "language": "python",
      "name": "python3"
    },
    "language_info": {
      "codemirror_mode": {
        "name": "ipython",
        "version": 3
      },
      "file_extension": ".py",
      "mimetype": "text/x-python",
      "name": "python",
      "nbconvert_exporter": "python",
      "pygments_lexer": "ipython3",
      "version": "3.9.7"
    },
    "colab": {
      "provenance": []
    }
  },
  "nbformat": 4,
  "nbformat_minor": 0
}