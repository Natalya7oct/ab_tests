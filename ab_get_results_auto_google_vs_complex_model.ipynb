{
  "cells": [
    {
      "cell_type": "code",
      "execution_count": null,
      "metadata": {
        "id": "KUpwHVnr8w_M"
      },
      "outputs": [],
      "source": [
        "import numpy as np\n",
        "import matplotlib.pyplot as plt\n",
        "import pandas as pd\n",
        "import scipy.stats as scs\n",
        "plt.style.use('ggplot')\n",
        "import numpy as np\n",
        "import pandas as pd\n",
        "import pyodbc\n",
        "import scipy\n",
        "from statsmodels.stats.weightstats import *\n",
        "from statsmodels.stats.proportion import proportion_confint"
      ]
    },
    {
      "cell_type": "code",
      "execution_count": null,
      "metadata": {
        "id": "aCeAYQ7g8w_S"
      },
      "outputs": [],
      "source": [
        "server = ''\n",
        "database = ''\n",
        "username = ''\n",
        "password = ''\n",
        "driver= 'SQL Server'\n",
        "connection = pyodbc.connect('DRIVER='+driver+';SERVER='+server+';PORT=1433;DATABASE='+database+';UID='+username+';PWD='+ password)"
      ]
    },
    {
      "cell_type": "code",
      "execution_count": null,
      "metadata": {
        "id": "qTz9Xm0F8w_S"
      },
      "outputs": [],
      "source": [
        "ab_name = 'complex_vs_google'"
      ]
    },
    {
      "cell_type": "code",
      "execution_count": null,
      "metadata": {
        "id": "xQ5K7aXg8w_T"
      },
      "outputs": [],
      "source": [
        "requestString_sessions = requestString_sessions = f'''...\n",
        "'''\n",
        "df = pd.read_sql_query(requestString_sessions,connection)\n",
        "data = df[['split','closed']]\n",
        "ab_summary =  df.pivot_table(values='closed', index='split', aggfunc=np.sum)\n",
        "ab_summary['total'] =  df.pivot_table(values='closed', index='split', aggfunc=lambda x: len(x))\n",
        "ab_summary['% closed'] = df.pivot_table(values='closed', index='split')\n",
        "ab_summary"
      ]
    },
    {
      "cell_type": "code",
      "execution_count": null,
      "metadata": {
        "id": "pt_VCeLw8w_U"
      },
      "outputs": [],
      "source": []
    },
    {
      "cell_type": "code",
      "execution_count": null,
      "metadata": {
        "id": "c42dfVCD8w_U"
      },
      "outputs": [],
      "source": [
        "A_closed = ab_summary.closed.iloc[0]\n",
        "A_total = ab_summary.total.iloc[0]\n",
        "p_A = A_closed / A_total\n",
        "X_A = A_total*p_A\n",
        "\n",
        "B_closed = ab_summary.closed.iloc[1]\n",
        "B_total = ab_summary.total.iloc[1]\n",
        "p_B = B_closed / B_total\n",
        "X_B = B_total*p_B\n",
        "\n",
        "n = B_total+A_total\n",
        "P = (A_closed+B_closed)/n"
      ]
    },
    {
      "cell_type": "code",
      "execution_count": null,
      "metadata": {
        "id": "Yaicct-h8w_V"
      },
      "outputs": [],
      "source": [
        "A_total=790\n",
        "B_total=746\n",
        "n = B_total+A_total"
      ]
    },
    {
      "cell_type": "code",
      "execution_count": null,
      "metadata": {
        "id": "Dq3nqvmM8w_W",
        "outputId": "ed14d6c7-d354-4558-95ac-7bf9a94ea706"
      },
      "outputs": [
        {
          "name": "stdout",
          "output_type": "stream",
          "text": [
            "0.47499525168564943 0.5250047483143506 0.5143229166666666\n"
          ]
        }
      ],
      "source": [
        "alpha = 0.05\n",
        "z_score = scipy.stats.norm.ppf(1 - alpha / 2.)\n",
        "p = 0.5\n",
        "p_hat = A_total/n\n",
        "\n",
        "std_error = 0.5/np.sqrt(n)\n",
        "m = z_score*std_error\n",
        "left = p - m\n",
        "right = p + m\n",
        "\n",
        "print(left,right,p_hat)"
      ]
    },
    {
      "cell_type": "code",
      "execution_count": null,
      "metadata": {
        "id": "Cp0FjBEI8w_Y"
      },
      "outputs": [],
      "source": [
        "eff = 100* (- p_A + p_B)"
      ]
    },
    {
      "cell_type": "code",
      "execution_count": null,
      "metadata": {
        "id": "RhhbWl078w_Y",
        "outputId": "164e52f6-ce18-407d-c11c-dd9b46af542c"
      },
      "outputs": [
        {
          "name": "stdout",
          "output_type": "stream",
          "text": [
            "(0.4786994738984239, 0.4940219741276434) (0.49370820235814716, 0.5092453870508611)\n"
          ]
        }
      ],
      "source": [
        "conf_interval_model_a = proportion_confint(sum(df.closed[df.split==0]),\n",
        "                                            len(df.closed[df.split==0]),\n",
        "                                            method = 'wilson')\n",
        "conf_interval_model_b = proportion_confint(sum(df.closed[df.split==1]),\n",
        "                                            len(df.closed[df.split==1]),\n",
        "                                            method = 'wilson')\n",
        "\n",
        "print (conf_interval_model_a,conf_interval_model_b)"
      ]
    },
    {
      "cell_type": "code",
      "execution_count": null,
      "metadata": {
        "id": "qmIuADP78w_Z",
        "outputId": "30ea8406-269c-40f3-fc42-6879b85a4bd9"
      },
      "outputs": [
        {
          "name": "stdout",
          "output_type": "stream",
          "text": [
            "(0.004207523017541461, 0.02603174226047511)\n"
          ]
        }
      ],
      "source": [
        "def proportions_diff_confint_ind(sample1, sample2, alpha = 0.05):\n",
        "    z = scipy.stats.norm.ppf(1 - alpha / 2.)\n",
        "\n",
        "    p1 = float(sum(sample1)) / len(sample1)\n",
        "    p2 = float(sum(sample2)) / len(sample2)\n",
        "\n",
        "    left_boundary = (p1 - p2) - z * np.sqrt(p1 * (1 - p1)/ len(sample1) + p2 * (1 - p2)/ len(sample2))\n",
        "    right_boundary = (p1 - p2) + z * np.sqrt(p1 * (1 - p1)/ len(sample1) + p2 * (1 - p2)/ len(sample2))\n",
        "\n",
        "    return (left_boundary, right_boundary)\n",
        "\n",
        "ci_diff = proportions_diff_confint_ind(df.closed[df.split==1], df.closed[df.split==0])\n",
        "\n",
        "print(ci_diff)"
      ]
    },
    {
      "cell_type": "code",
      "execution_count": null,
      "metadata": {
        "id": "21XLayXW8w_a",
        "outputId": "d2e6a191-a8d2-4b5d-da71-30cb9cc89d2b"
      },
      "outputs": [
        {
          "name": "stdout",
          "output_type": "stream",
          "text": [
            "-2.7153957298111777\n"
          ]
        }
      ],
      "source": [
        "def proportions_diff_z_stat_ind(sample1, sample2):\n",
        "    n1 = len(sample1)\n",
        "    n2 = len(sample2)\n",
        "\n",
        "    p1 = float(sum(sample1)) / n1\n",
        "    p2 = float(sum(sample2)) / n2\n",
        "    P = float(p1*n1 + p2*n2) / (n1 + n2)\n",
        "\n",
        "    return (p1 - p2) / np.sqrt(P * (1 - P) * (1. / n1 + 1. / n2))\n",
        "\n",
        "z = proportions_diff_z_stat_ind(df.closed[df.split==0], df.closed[df.split==1])\n",
        "\n",
        "print(z)"
      ]
    },
    {
      "cell_type": "code",
      "execution_count": null,
      "metadata": {
        "id": "ayBzg49A8w_a",
        "outputId": "1e0a716f-4a14-45b7-d046-93f36f4a9e77"
      },
      "outputs": [
        {
          "name": "stdout",
          "output_type": "stream",
          "text": [
            "0.9966901690995134 0.0033098309004866975 0.006619661800973287\n"
          ]
        }
      ],
      "source": [
        "def proportions_diff_z_test(z_stat, alternative = 'two-sided'):\n",
        "    if alternative not in ('two-sided', 'less', 'greater'):\n",
        "        raise ValueError(\"alternative not recognized\\n\"\n",
        "                         \"should be 'two-sided', 'less' or 'greater'\")\n",
        "\n",
        "    if alternative == 'two-sided':\n",
        "        return 2 * (1 - scipy.stats.norm.cdf(np.abs(z_stat)))\n",
        "\n",
        "    if alternative == 'less':\n",
        "        return scipy.stats.norm.cdf(z_stat)\n",
        "\n",
        "    if alternative == 'greater':\n",
        "        return 1 - scipy.stats.norm.cdf(z_stat)\n",
        "\n",
        "z_greater = proportions_diff_z_test(z, 'greater')\n",
        "z_less = proportions_diff_z_test(z, 'less')\n",
        "z_two_sided = proportions_diff_z_test(z, 'two-sided')\n",
        "\n",
        "print(z_greater,z_less,z_two_sided)\n"
      ]
    },
    {
      "cell_type": "code",
      "execution_count": null,
      "metadata": {
        "id": "rPbBUTEM8w_b",
        "outputId": "dd8c328a-72d0-42e5-915a-55225675c134"
      },
      "outputs": [
        {
          "data": {
            "text/plain": [
              "Text(0, 0.5, 'probability')"
            ]
          },
          "execution_count": 15,
          "metadata": {},
          "output_type": "execute_result"
        },
        {
          "data": {
            "image/png": "[encoded data removed]",
            "text/plain": [
              "<Figure size 864x432 with 1 Axes>"
            ]
          },
          "metadata": {},
          "output_type": "display_data"
        }
      ],
      "source": [
        "fig, ax = plt.subplots(figsize=(12,6))\n",
        "xA = np.linspace(A_closed-599, A_closed+600, 1200)\n",
        "yA = scs.binom(A_total, p_A).pmf(xA)\n",
        "ax.bar(xA, yA, alpha=0.5)\n",
        "xB = np.linspace(B_closed-599, B_closed+600, 1200)\n",
        "yB = scs.binom(B_total, p_B).pmf(xB)\n",
        "ax.bar(xB, yB, alpha=0.5)\n",
        "plt.xlabel('closed')\n",
        "plt.ylabel('probability')"
      ]
    },
    {
      "cell_type": "code",
      "execution_count": null,
      "metadata": {
        "id": "pM8HfBWy8w_b",
        "outputId": "4930baaa-9b82-4dc4-8ab3-f95281f30c36"
      },
      "outputs": [
        {
          "name": "stdout",
          "output_type": "stream",
          "text": [
            "0.9858102960948021\n"
          ]
        }
      ],
      "source": [
        "# среднеквадротическое отклонение\n",
        "SE_A = np.sqrt(p_A * (1-p_A)) / np.sqrt(A_total)\n",
        "SE_B = np.sqrt(p_B * (1-p_B)) / np.sqrt(B_total)\n",
        "\n",
        "alpha = 0.05\n",
        "z_score = scipy.stats.norm.ppf(1 - alpha)\n",
        "m_a = z_score*SE_A\n",
        "right_a = p_A + m_a\n",
        "\n",
        "power = 1 - scs.norm(p_B, SE_B).cdf(right_a)\n",
        "\n",
        "print(power)"
      ]
    },
    {
      "cell_type": "code",
      "execution_count": null,
      "metadata": {
        "id": "_UgD0NRz8w_b",
        "outputId": "a85a294f-5cad-401e-dc79-ba745ad8293a"
      },
      "outputs": [
        {
          "data": {
            "text/plain": [
              "Text(0, 0.5, 'PDF')"
            ]
          },
          "execution_count": 17,
          "metadata": {},
          "output_type": "execute_result"
        },
        {
          "data": {
            "image/png": "[encoded data removed]",
            "text/plain": [
              "<Figure size 864x432 with 1 Axes>"
            ]
          },
          "metadata": {},
          "output_type": "display_data"
        }
      ],
      "source": [
        "fig, ax = plt.subplots(figsize=(12,6))\n",
        "x = np.linspace(0.455, 0.475, 1000)\n",
        "yA = scs.norm(p_A, SE_A).pdf(x)\n",
        "ax.plot(x, yA)\n",
        "ax.axvline(x=right_a, c='grey', alpha=0.5, linestyle='--')\n",
        "yB = scs.norm(p_B, SE_B).pdf(x)\n",
        "ax.plot(x, yB)\n",
        "ax.fill_between(x, 0, yB, color='green', alpha='0.25', where=(x > right_a))\n",
        "plt.xlabel('Converted Proportion')\n",
        "plt.ylabel('PDF')"
      ]
    },
    {
      "cell_type": "code",
      "execution_count": null,
      "metadata": {
        "id": "VZyxI21O8w_c",
        "outputId": "c5757528-e111-463a-e8d5-8f3582c01e81"
      },
      "outputs": [
        {
          "name": "stdout",
          "output_type": "stream",
          "text": [
            "Общая статистика: \n",
            "        closed  total  % closed\n",
            "split                         \n",
            "0.0      7950  16346  0.486358\n",
            "1.0      7978  15909  0.501477 \n",
            "\n",
            " Полученный эффект: \n",
            " 1.51% \n",
            "\n",
            " Проверка объема выборок: \n",
            " Доверительный интервал для p=0.5: 0.4945-0.5055 \n",
            " Доля сессий, ушедших на новую модель: 0.5068 \n",
            " Если доля лежит внутри доверительного интервала, то сплит был корректным. \n",
            "\n",
            " Проверка пересечения доверительных интервалов для долей закрытых сессий: \n",
            " Доверительный интервал модели A: (0.4786994738984239, 0.4940219741276434) \n",
            " Доверительный интервал модели B: (0.49370820235814716, 0.5092453870508611) \n",
            " Если доверительные интервалы пересекаются, то модели отличаются незначительно. \n",
            "\n",
            " Проверка доверительного интервала разности долей: \n",
            " Доверительный интервал разницы долей: (0.004207523017541461, 0.02603174226047511) \n",
            " Если доверительный интервал содержит 0, то модели отличаются незначительно. \n",
            "\n",
            " Проверка p_value (вероятность найти эфффект, если его нет): \n",
            " p_value для гипотезы, что автоматизация модели В выше: 0.0033 \n",
            " Если p_value<0.05, то гипотеза принимается. \n",
            "\n",
            " Проверка мощности (вероятность найти эфффект, если он есть): \n",
            " мощность для гипотезы, что автоматизация модели В выше: 0.9858 \n",
            " Если мощность>0.8, то гипотезу можно принять. \n",
            "\n",
            "\n"
          ]
        }
      ],
      "source": [
        "print('Общая статистика:', '\\n', ab_summary, '\\n\\n',\n",
        "      'Полученный эффект:', '\\n', \"{:.2f}\".format(eff)+'%', '\\n\\n',\n",
        "      'Проверка объема выборок:', '\\n',\n",
        "      'Доверительный интервал для p=0.5: '+\"{:.4f}\".format(left)+'-'+\"{:.4f}\".format(right), '\\n',\n",
        "      'Доля сессий, ушедших на новую модель: ' +\"{:.4f}\".format(p_hat), '\\n',\n",
        "      'Если доля лежит внутри доверительного интервала, то сплит был корректным.', '\\n\\n',\n",
        "      'Проверка пересечения доверительных интервалов для долей закрытых сессий:', '\\n',\n",
        "      'Доверительный интервал модели A: ' + str(conf_interval_model_a), '\\n',\n",
        "      'Доверительный интервал модели B: ' + str(conf_interval_model_b), '\\n',\n",
        "      'Если доверительные интервалы пересекаются, то модели отличаются незначительно.', '\\n\\n',\n",
        "      'Проверка доверительного интервала разности долей:', '\\n',\n",
        "      'Доверительный интервал разницы долей: ' + str(ci_diff), '\\n',\n",
        "      'Если доверительный интервал содержит 0, то модели отличаются незначительно.', '\\n\\n',\n",
        "      'Проверка p_value (вероятность найти эфффект, если его нет):', '\\n',\n",
        "      'p_value для гипотезы, что автоматизация модели В выше: ' +\"{:.4f}\".format(z_less), '\\n',\n",
        "      'Если p_value<0.05, то гипотеза принимается.', '\\n\\n',\n",
        "      'Проверка мощности (вероятность найти эфффект, если он есть):', '\\n',\n",
        "      'мощность для гипотезы, что автоматизация модели В выше: ' +\"{:.4f}\".format(power), '\\n',\n",
        "      'Если мощность>0.8, то гипотезу можно принять.', '\\n\\n',\n",
        "       )"
      ]
    },
    {
      "cell_type": "code",
      "execution_count": null,
      "metadata": {
        "id": "hSGkJdRE8w_c"
      },
      "outputs": [],
      "source": []
    },
    {
      "cell_type": "code",
      "execution_count": null,
      "metadata": {
        "id": "RuhfSIgn8w_c"
      },
      "outputs": [],
      "source": []
    },
    {
      "cell_type": "code",
      "execution_count": null,
      "metadata": {
        "id": "zZd3Tqjc8w_c"
      },
      "outputs": [],
      "source": []
    },
    {
      "cell_type": "code",
      "execution_count": null,
      "metadata": {
        "id": "NSQEwodl8w_d"
      },
      "outputs": [],
      "source": []
    }
  ],
  "metadata": {
    "kernelspec": {
      "display_name": "Python 3 (ipykernel)",
      "language": "python",
      "name": "python3"
    },
    "language_info": {
      "codemirror_mode": {
        "name": "ipython",
        "version": 3
      },
      "file_extension": ".py",
      "mimetype": "text/x-python",
      "name": "python",
      "nbconvert_exporter": "python",
      "pygments_lexer": "ipython3",
      "version": "3.9.7"
    },
    "colab": {
      "provenance": []
    }
  },
  "nbformat": 4,
  "nbformat_minor": 0
}